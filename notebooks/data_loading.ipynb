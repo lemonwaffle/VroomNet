{
 "cells": [
  {
   "cell_type": "code",
   "execution_count": 1,
   "metadata": {},
   "outputs": [],
   "source": [
    "import os\n",
    "import sys\n",
    "import pandas as pd\n",
    "import matplotlib.pyplot as plt\n",
    "\n",
    "from tensorflow.keras.preprocessing.image import ImageDataGenerator"
   ]
  },
  {
   "cell_type": "code",
   "execution_count": 2,
   "metadata": {},
   "outputs": [],
   "source": [
    "ROOT = os.path.join(os.pardir)\n",
    "\n",
    "DATA_DIR = os.path.join(ROOT, 'data')\n",
    "DATA_PATH = os.path.join(DATA_DIR, 'data.csv')\n",
    "\n",
    "sys.path.append(os.path.join(ROOT, \"src\"))\n",
    "\n",
    "%load_ext autoreload\n",
    "%autoreload 2"
   ]
  },
  {
   "cell_type": "code",
   "execution_count": 3,
   "metadata": {},
   "outputs": [],
   "source": [
    "from dataloaders.preprocess import get_indices_split"
   ]
  },
  {
   "cell_type": "markdown",
   "metadata": {},
   "source": [
    "# Load Data"
   ]
  },
  {
   "cell_type": "code",
   "execution_count": 4,
   "metadata": {
    "scrolled": true
   },
   "outputs": [
    {
     "data": {
      "text/html": [
       "<div>\n",
       "<style scoped>\n",
       "    .dataframe tbody tr th:only-of-type {\n",
       "        vertical-align: middle;\n",
       "    }\n",
       "\n",
       "    .dataframe tbody tr th {\n",
       "        vertical-align: top;\n",
       "    }\n",
       "\n",
       "    .dataframe thead th {\n",
       "        text-align: right;\n",
       "    }\n",
       "</style>\n",
       "<table border=\"1\" class=\"dataframe\">\n",
       "  <thead>\n",
       "    <tr style=\"text-align: right;\">\n",
       "      <th></th>\n",
       "      <th>img_path</th>\n",
       "      <th>class</th>\n",
       "      <th>bbox_x1</th>\n",
       "      <th>bbox_y1</th>\n",
       "      <th>bbox_x2</th>\n",
       "      <th>bbox_y2</th>\n",
       "      <th>test</th>\n",
       "    </tr>\n",
       "  </thead>\n",
       "  <tbody>\n",
       "    <tr>\n",
       "      <th>0</th>\n",
       "      <td>car_ims/000001.jpg</td>\n",
       "      <td>AM General Hummer SUV 2000</td>\n",
       "      <td>112</td>\n",
       "      <td>7</td>\n",
       "      <td>853</td>\n",
       "      <td>717</td>\n",
       "      <td>0</td>\n",
       "    </tr>\n",
       "    <tr>\n",
       "      <th>1</th>\n",
       "      <td>car_ims/000002.jpg</td>\n",
       "      <td>AM General Hummer SUV 2000</td>\n",
       "      <td>48</td>\n",
       "      <td>24</td>\n",
       "      <td>441</td>\n",
       "      <td>202</td>\n",
       "      <td>0</td>\n",
       "    </tr>\n",
       "    <tr>\n",
       "      <th>2</th>\n",
       "      <td>car_ims/000003.jpg</td>\n",
       "      <td>AM General Hummer SUV 2000</td>\n",
       "      <td>7</td>\n",
       "      <td>4</td>\n",
       "      <td>277</td>\n",
       "      <td>180</td>\n",
       "      <td>0</td>\n",
       "    </tr>\n",
       "    <tr>\n",
       "      <th>3</th>\n",
       "      <td>car_ims/000004.jpg</td>\n",
       "      <td>AM General Hummer SUV 2000</td>\n",
       "      <td>33</td>\n",
       "      <td>50</td>\n",
       "      <td>197</td>\n",
       "      <td>150</td>\n",
       "      <td>0</td>\n",
       "    </tr>\n",
       "    <tr>\n",
       "      <th>4</th>\n",
       "      <td>car_ims/000005.jpg</td>\n",
       "      <td>AM General Hummer SUV 2000</td>\n",
       "      <td>5</td>\n",
       "      <td>8</td>\n",
       "      <td>83</td>\n",
       "      <td>58</td>\n",
       "      <td>0</td>\n",
       "    </tr>\n",
       "  </tbody>\n",
       "</table>\n",
       "</div>"
      ],
      "text/plain": [
       "             img_path                       class  bbox_x1  bbox_y1  bbox_x2  \\\n",
       "0  car_ims/000001.jpg  AM General Hummer SUV 2000      112        7      853   \n",
       "1  car_ims/000002.jpg  AM General Hummer SUV 2000       48       24      441   \n",
       "2  car_ims/000003.jpg  AM General Hummer SUV 2000        7        4      277   \n",
       "3  car_ims/000004.jpg  AM General Hummer SUV 2000       33       50      197   \n",
       "4  car_ims/000005.jpg  AM General Hummer SUV 2000        5        8       83   \n",
       "\n",
       "   bbox_y2  test  \n",
       "0      717     0  \n",
       "1      202     0  \n",
       "2      180     0  \n",
       "3      150     0  \n",
       "4       58     0  "
      ]
     },
     "execution_count": 4,
     "metadata": {},
     "output_type": "execute_result"
    }
   ],
   "source": [
    "data = pd.read_csv(DATA_PATH)\n",
    "data.head()"
   ]
  },
  {
   "cell_type": "code",
   "execution_count": 5,
   "metadata": {},
   "outputs": [],
   "source": [
    "training_data = data[data['test'] == 0]\n",
    "test_data = data[data['test'] == 1]"
   ]
  },
  {
   "cell_type": "markdown",
   "metadata": {},
   "source": [
    "# Define Splits"
   ]
  },
  {
   "cell_type": "code",
   "execution_count": 6,
   "metadata": {},
   "outputs": [],
   "source": [
    "# Use Stratified Sampling\n",
    "train_indices, val_indices = get_indices_split(training_data, 'class', 0.2)\n",
    "\n",
    "val_data = training_data.iloc[val_indices]\n",
    "train_data = training_data.iloc[train_indices]"
   ]
  },
  {
   "cell_type": "markdown",
   "metadata": {},
   "source": [
    "# Define Augmentations"
   ]
  },
  {
   "cell_type": "code",
   "execution_count": 7,
   "metadata": {},
   "outputs": [],
   "source": [
    "from tensorflow.keras.applications.resnet50 import preprocess_input"
   ]
  },
  {
   "cell_type": "code",
   "execution_count": 8,
   "metadata": {},
   "outputs": [],
   "source": [
    "train_img_gen = ImageDataGenerator(preprocessing_function=preprocess_input)\n",
    "val_img_gen = ImageDataGenerator(preprocessing_function=preprocess_input)\n",
    "test_img_gen = ImageDataGenerator(preprocessing_function=preprocess_input)"
   ]
  },
  {
   "cell_type": "markdown",
   "metadata": {},
   "source": [
    "# Load Images"
   ]
  },
  {
   "cell_type": "code",
   "execution_count": 9,
   "metadata": {},
   "outputs": [
    {
     "data": {
      "text/html": [
       "<div>\n",
       "<style scoped>\n",
       "    .dataframe tbody tr th:only-of-type {\n",
       "        vertical-align: middle;\n",
       "    }\n",
       "\n",
       "    .dataframe tbody tr th {\n",
       "        vertical-align: top;\n",
       "    }\n",
       "\n",
       "    .dataframe thead th {\n",
       "        text-align: right;\n",
       "    }\n",
       "</style>\n",
       "<table border=\"1\" class=\"dataframe\">\n",
       "  <thead>\n",
       "    <tr style=\"text-align: right;\">\n",
       "      <th></th>\n",
       "      <th>img_path</th>\n",
       "      <th>class</th>\n",
       "      <th>bbox_x1</th>\n",
       "      <th>bbox_y1</th>\n",
       "      <th>bbox_x2</th>\n",
       "      <th>bbox_y2</th>\n",
       "      <th>test</th>\n",
       "    </tr>\n",
       "  </thead>\n",
       "  <tbody>\n",
       "    <tr>\n",
       "      <th>18</th>\n",
       "      <td>car_ims/000019.jpg</td>\n",
       "      <td>AM General Hummer SUV 2000</td>\n",
       "      <td>86</td>\n",
       "      <td>81</td>\n",
       "      <td>371</td>\n",
       "      <td>252</td>\n",
       "      <td>0</td>\n",
       "    </tr>\n",
       "    <tr>\n",
       "      <th>12540</th>\n",
       "      <td>car_ims/012541.jpg</td>\n",
       "      <td>Lamborghini Diablo Coupe 2001</td>\n",
       "      <td>75</td>\n",
       "      <td>260</td>\n",
       "      <td>923</td>\n",
       "      <td>593</td>\n",
       "      <td>0</td>\n",
       "    </tr>\n",
       "    <tr>\n",
       "      <th>10880</th>\n",
       "      <td>car_ims/010881.jpg</td>\n",
       "      <td>Hyundai Tucson SUV 2012</td>\n",
       "      <td>111</td>\n",
       "      <td>66</td>\n",
       "      <td>984</td>\n",
       "      <td>800</td>\n",
       "      <td>0</td>\n",
       "    </tr>\n",
       "    <tr>\n",
       "      <th>9641</th>\n",
       "      <td>car_ims/009642.jpg</td>\n",
       "      <td>GMC Terrain SUV 2012</td>\n",
       "      <td>32</td>\n",
       "      <td>55</td>\n",
       "      <td>607</td>\n",
       "      <td>403</td>\n",
       "      <td>0</td>\n",
       "    </tr>\n",
       "    <tr>\n",
       "      <th>9394</th>\n",
       "      <td>car_ims/009395.jpg</td>\n",
       "      <td>Ford Focus Sedan 2007</td>\n",
       "      <td>11</td>\n",
       "      <td>15</td>\n",
       "      <td>277</td>\n",
       "      <td>157</td>\n",
       "      <td>0</td>\n",
       "    </tr>\n",
       "  </tbody>\n",
       "</table>\n",
       "</div>"
      ],
      "text/plain": [
       "                 img_path                          class  bbox_x1  bbox_y1  \\\n",
       "18     car_ims/000019.jpg     AM General Hummer SUV 2000       86       81   \n",
       "12540  car_ims/012541.jpg  Lamborghini Diablo Coupe 2001       75      260   \n",
       "10880  car_ims/010881.jpg        Hyundai Tucson SUV 2012      111       66   \n",
       "9641   car_ims/009642.jpg           GMC Terrain SUV 2012       32       55   \n",
       "9394   car_ims/009395.jpg          Ford Focus Sedan 2007       11       15   \n",
       "\n",
       "       bbox_x2  bbox_y2  test  \n",
       "18         371      252     0  \n",
       "12540      923      593     0  \n",
       "10880      984      800     0  \n",
       "9641       607      403     0  \n",
       "9394       277      157     0  "
      ]
     },
     "execution_count": 9,
     "metadata": {},
     "output_type": "execute_result"
    }
   ],
   "source": [
    "train_data.head()"
   ]
  },
  {
   "cell_type": "code",
   "execution_count": 10,
   "metadata": {},
   "outputs": [],
   "source": [
    "IMG_COL = 'img_path'\n",
    "LABEL_COL = 'class'\n",
    "IMG_SIZE = 224\n",
    "BATCH_SIZE = 32"
   ]
  },
  {
   "cell_type": "code",
   "execution_count": 11,
   "metadata": {},
   "outputs": [
    {
     "name": "stdout",
     "output_type": "stream",
     "text": [
      "Found 6515 images belonging to 196 classes.\n"
     ]
    }
   ],
   "source": [
    "train_gen = train_img_gen.flow_from_dataframe(\n",
    "    train_data,\n",
    "    directory=DATA_DIR,\n",
    "    x_col=IMG_COL,\n",
    "    y_col=LABEL_COL,\n",
    "    target_size=(IMG_SIZE, IMG_SIZE),\n",
    "    class_mode='sparse',\n",
    "    batch_size=BATCH_SIZE,\n",
    "    shuffle=True,\n",
    "    seed=42\n",
    ")"
   ]
  },
  {
   "cell_type": "code",
   "execution_count": 12,
   "metadata": {},
   "outputs": [
    {
     "name": "stdout",
     "output_type": "stream",
     "text": [
      "Found 1629 images belonging to 196 classes.\n"
     ]
    }
   ],
   "source": [
    "val_gen = val_img_gen.flow_from_dataframe(\n",
    "    val_data,\n",
    "    directory=DATA_DIR,\n",
    "    x_col=IMG_COL,\n",
    "    y_col=LABEL_COL,\n",
    "    target_size=(IMG_SIZE, IMG_SIZE),\n",
    "    class_mode='sparse',\n",
    "    batch_size=BATCH_SIZE,\n",
    "    shuffle=False,\n",
    ")"
   ]
  },
  {
   "cell_type": "code",
   "execution_count": 13,
   "metadata": {},
   "outputs": [
    {
     "name": "stdout",
     "output_type": "stream",
     "text": [
      "Found 8041 images.\n"
     ]
    }
   ],
   "source": [
    "test_gen = test_img_gen.flow_from_dataframe(\n",
    "    test_data,\n",
    "    directory=DATA_DIR,\n",
    "    x_col=IMG_COL,\n",
    "    y_col=None,\n",
    "    target_size=(IMG_SIZE, IMG_SIZE),\n",
    "    class_mode=None,\n",
    "    batch_size=17,\n",
    "    shuffle=False\n",
    ")"
   ]
  },
  {
   "cell_type": "code",
   "execution_count": 16,
   "metadata": {},
   "outputs": [],
   "source": [
    "batch = next(val_gen)"
   ]
  },
  {
   "cell_type": "code",
   "execution_count": 17,
   "metadata": {},
   "outputs": [
    {
     "data": {
      "text/plain": [
       "(32,)"
      ]
     },
     "execution_count": 17,
     "metadata": {},
     "output_type": "execute_result"
    }
   ],
   "source": [
    "batch[1].shape"
   ]
  },
  {
   "cell_type": "code",
   "execution_count": 18,
   "metadata": {},
   "outputs": [
    {
     "data": {
      "text/plain": [
       "array([116., 185.,   7., 183.,  15.,  21., 121., 101., 101.,  13., 115.,\n",
       "       182.,  39.,  51., 175., 153.,  60.,  85.,  73., 188.,  88., 107.,\n",
       "       193.,  86., 151.,  32.,  48.,  27., 124.,  47., 111., 115.],\n",
       "      dtype=float32)"
      ]
     },
     "execution_count": 18,
     "metadata": {},
     "output_type": "execute_result"
    }
   ],
   "source": [
    "batch[1]"
   ]
  },
  {
   "cell_type": "code",
   "execution_count": 14,
   "metadata": {},
   "outputs": [
    {
     "data": {
      "text/plain": [
       "203"
      ]
     },
     "execution_count": 14,
     "metadata": {},
     "output_type": "execute_result"
    }
   ],
   "source": [
    "train_gen.n // train_gen.batch_size"
   ]
  },
  {
   "cell_type": "code",
   "execution_count": 15,
   "metadata": {},
   "outputs": [
    {
     "data": {
      "text/plain": [
       "50"
      ]
     },
     "execution_count": 15,
     "metadata": {},
     "output_type": "execute_result"
    }
   ],
   "source": [
    "val_gen.n // val_gen.batch_size"
   ]
  },
  {
   "cell_type": "markdown",
   "metadata": {},
   "source": [
    "# Label Map"
   ]
  },
  {
   "cell_type": "code",
   "execution_count": 20,
   "metadata": {},
   "outputs": [],
   "source": [
    "class_to_label = train_gen.class_indices"
   ]
  },
  {
   "cell_type": "code",
   "execution_count": 21,
   "metadata": {},
   "outputs": [],
   "source": [
    "label_to_class = dict((v,k) for k,v in class_to_label.items())"
   ]
  },
  {
   "cell_type": "code",
   "execution_count": 22,
   "metadata": {},
   "outputs": [
    {
     "data": {
      "text/plain": [
       "{0: 'AM General Hummer SUV 2000',\n",
       " 1: 'Acura Integra Type R 2001',\n",
       " 2: 'Acura RL Sedan 2012',\n",
       " 3: 'Acura TL Sedan 2012',\n",
       " 4: 'Acura TL Type-S 2008',\n",
       " 5: 'Acura TSX Sedan 2012',\n",
       " 6: 'Acura ZDX Hatchback 2012',\n",
       " 7: 'Aston Martin V8 Vantage Convertible 2012',\n",
       " 8: 'Aston Martin V8 Vantage Coupe 2012',\n",
       " 9: 'Aston Martin Virage Convertible 2012',\n",
       " 10: 'Aston Martin Virage Coupe 2012',\n",
       " 11: 'Audi 100 Sedan 1994',\n",
       " 12: 'Audi 100 Wagon 1994',\n",
       " 13: 'Audi A5 Coupe 2012',\n",
       " 14: 'Audi R8 Coupe 2012',\n",
       " 15: 'Audi RS 4 Convertible 2008',\n",
       " 16: 'Audi S4 Sedan 2007',\n",
       " 17: 'Audi S4 Sedan 2012',\n",
       " 18: 'Audi S5 Convertible 2012',\n",
       " 19: 'Audi S5 Coupe 2012',\n",
       " 20: 'Audi S6 Sedan 2011',\n",
       " 21: 'Audi TT Hatchback 2011',\n",
       " 22: 'Audi TT RS Coupe 2012',\n",
       " 23: 'Audi TTS Coupe 2012',\n",
       " 24: 'Audi V8 Sedan 1994',\n",
       " 25: 'BMW 1 Series Convertible 2012',\n",
       " 26: 'BMW 1 Series Coupe 2012',\n",
       " 27: 'BMW 3 Series Sedan 2012',\n",
       " 28: 'BMW 3 Series Wagon 2012',\n",
       " 29: 'BMW 6 Series Convertible 2007',\n",
       " 30: 'BMW ActiveHybrid 5 Sedan 2012',\n",
       " 31: 'BMW M3 Coupe 2012',\n",
       " 32: 'BMW M5 Sedan 2010',\n",
       " 33: 'BMW M6 Convertible 2010',\n",
       " 34: 'BMW X3 SUV 2012',\n",
       " 35: 'BMW X5 SUV 2007',\n",
       " 36: 'BMW X6 SUV 2012',\n",
       " 37: 'BMW Z4 Convertible 2012',\n",
       " 38: 'Bentley Arnage Sedan 2009',\n",
       " 39: 'Bentley Continental Flying Spur Sedan 2007',\n",
       " 40: 'Bentley Continental GT Coupe 2007',\n",
       " 41: 'Bentley Continental GT Coupe 2012',\n",
       " 42: 'Bentley Continental Supersports Conv. Convertible 2012',\n",
       " 43: 'Bentley Mulsanne Sedan 2011',\n",
       " 44: 'Bugatti Veyron 16.4 Convertible 2009',\n",
       " 45: 'Bugatti Veyron 16.4 Coupe 2009',\n",
       " 46: 'Buick Enclave SUV 2012',\n",
       " 47: 'Buick Rainier SUV 2007',\n",
       " 48: 'Buick Regal GS 2012',\n",
       " 49: 'Buick Verano Sedan 2012',\n",
       " 50: 'Cadillac CTS-V Sedan 2012',\n",
       " 51: 'Cadillac Escalade EXT Crew Cab 2007',\n",
       " 52: 'Cadillac SRX SUV 2012',\n",
       " 53: 'Chevrolet Avalanche Crew Cab 2012',\n",
       " 54: 'Chevrolet Camaro Convertible 2012',\n",
       " 55: 'Chevrolet Cobalt SS 2010',\n",
       " 56: 'Chevrolet Corvette Convertible 2012',\n",
       " 57: 'Chevrolet Corvette Ron Fellows Edition Z06 2007',\n",
       " 58: 'Chevrolet Corvette ZR1 2012',\n",
       " 59: 'Chevrolet Express Cargo Van 2007',\n",
       " 60: 'Chevrolet Express Van 2007',\n",
       " 61: 'Chevrolet HHR SS 2010',\n",
       " 62: 'Chevrolet Impala Sedan 2007',\n",
       " 63: 'Chevrolet Malibu Hybrid Sedan 2010',\n",
       " 64: 'Chevrolet Malibu Sedan 2007',\n",
       " 65: 'Chevrolet Monte Carlo Coupe 2007',\n",
       " 66: 'Chevrolet Silverado 1500 Classic Extended Cab 2007',\n",
       " 67: 'Chevrolet Silverado 1500 Extended Cab 2012',\n",
       " 68: 'Chevrolet Silverado 1500 Hybrid Crew Cab 2012',\n",
       " 69: 'Chevrolet Silverado 1500 Regular Cab 2012',\n",
       " 70: 'Chevrolet Silverado 2500HD Regular Cab 2012',\n",
       " 71: 'Chevrolet Sonic Sedan 2012',\n",
       " 72: 'Chevrolet Tahoe Hybrid SUV 2012',\n",
       " 73: 'Chevrolet TrailBlazer SS 2009',\n",
       " 74: 'Chevrolet Traverse SUV 2012',\n",
       " 75: 'Chrysler 300 SRT-8 2010',\n",
       " 76: 'Chrysler Aspen SUV 2009',\n",
       " 77: 'Chrysler Crossfire Convertible 2008',\n",
       " 78: 'Chrysler PT Cruiser Convertible 2008',\n",
       " 79: 'Chrysler Sebring Convertible 2010',\n",
       " 80: 'Chrysler Town and Country Minivan 2012',\n",
       " 81: 'Daewoo Nubira Wagon 2002',\n",
       " 82: 'Dodge Caliber Wagon 2007',\n",
       " 83: 'Dodge Caliber Wagon 2012',\n",
       " 84: 'Dodge Caravan Minivan 1997',\n",
       " 85: 'Dodge Challenger SRT8 2011',\n",
       " 86: 'Dodge Charger SRT-8 2009',\n",
       " 87: 'Dodge Charger Sedan 2012',\n",
       " 88: 'Dodge Dakota Club Cab 2007',\n",
       " 89: 'Dodge Dakota Crew Cab 2010',\n",
       " 90: 'Dodge Durango SUV 2007',\n",
       " 91: 'Dodge Durango SUV 2012',\n",
       " 92: 'Dodge Journey SUV 2012',\n",
       " 93: 'Dodge Magnum Wagon 2008',\n",
       " 94: 'Dodge Ram Pickup 3500 Crew Cab 2010',\n",
       " 95: 'Dodge Ram Pickup 3500 Quad Cab 2009',\n",
       " 96: 'Dodge Sprinter Cargo Van 2009',\n",
       " 97: 'Eagle Talon Hatchback 1998',\n",
       " 98: 'FIAT 500 Abarth 2012',\n",
       " 99: 'FIAT 500 Convertible 2012',\n",
       " 100: 'Ferrari 458 Italia Convertible 2012',\n",
       " 101: 'Ferrari 458 Italia Coupe 2012',\n",
       " 102: 'Ferrari California Convertible 2012',\n",
       " 103: 'Ferrari FF Coupe 2012',\n",
       " 104: 'Fisker Karma Sedan 2012',\n",
       " 105: 'Ford E-Series Wagon Van 2012',\n",
       " 106: 'Ford Edge SUV 2012',\n",
       " 107: 'Ford Expedition EL SUV 2009',\n",
       " 108: 'Ford F-150 Regular Cab 2007',\n",
       " 109: 'Ford F-150 Regular Cab 2012',\n",
       " 110: 'Ford F-450 Super Duty Crew Cab 2012',\n",
       " 111: 'Ford Fiesta Sedan 2012',\n",
       " 112: 'Ford Focus Sedan 2007',\n",
       " 113: 'Ford Freestar Minivan 2007',\n",
       " 114: 'Ford GT Coupe 2006',\n",
       " 115: 'Ford Mustang Convertible 2007',\n",
       " 116: 'Ford Ranger SuperCab 2011',\n",
       " 117: 'GMC Acadia SUV 2012',\n",
       " 118: 'GMC Canyon Extended Cab 2012',\n",
       " 119: 'GMC Savana Van 2012',\n",
       " 120: 'GMC Terrain SUV 2012',\n",
       " 121: 'GMC Yukon Hybrid SUV 2012',\n",
       " 122: 'Geo Metro Convertible 1993',\n",
       " 123: 'HUMMER H2 SUT Crew Cab 2009',\n",
       " 124: 'HUMMER H3T Crew Cab 2010',\n",
       " 125: 'Honda Accord Coupe 2012',\n",
       " 126: 'Honda Accord Sedan 2012',\n",
       " 127: 'Honda Odyssey Minivan 2007',\n",
       " 128: 'Honda Odyssey Minivan 2012',\n",
       " 129: 'Hyundai Accent Sedan 2012',\n",
       " 130: 'Hyundai Azera Sedan 2012',\n",
       " 131: 'Hyundai Elantra Sedan 2007',\n",
       " 132: 'Hyundai Elantra Touring Hatchback 2012',\n",
       " 133: 'Hyundai Genesis Sedan 2012',\n",
       " 134: 'Hyundai Santa Fe SUV 2012',\n",
       " 135: 'Hyundai Sonata Hybrid Sedan 2012',\n",
       " 136: 'Hyundai Sonata Sedan 2012',\n",
       " 137: 'Hyundai Tucson SUV 2012',\n",
       " 138: 'Hyundai Veloster Hatchback 2012',\n",
       " 139: 'Hyundai Veracruz SUV 2012',\n",
       " 140: 'Infiniti G Coupe IPL 2012',\n",
       " 141: 'Infiniti QX56 SUV 2011',\n",
       " 142: 'Isuzu Ascender SUV 2008',\n",
       " 143: 'Jaguar XK XKR 2012',\n",
       " 144: 'Jeep Compass SUV 2012',\n",
       " 145: 'Jeep Grand Cherokee SUV 2012',\n",
       " 146: 'Jeep Liberty SUV 2012',\n",
       " 147: 'Jeep Patriot SUV 2012',\n",
       " 148: 'Jeep Wrangler SUV 2012',\n",
       " 149: 'Lamborghini Aventador Coupe 2012',\n",
       " 150: 'Lamborghini Diablo Coupe 2001',\n",
       " 151: 'Lamborghini Gallardo LP 570-4 Superleggera 2012',\n",
       " 152: 'Lamborghini Reventon Coupe 2008',\n",
       " 153: 'Land Rover LR2 SUV 2012',\n",
       " 154: 'Land Rover Range Rover SUV 2012',\n",
       " 155: 'Lincoln Town Car Sedan 2011',\n",
       " 156: 'MINI Cooper Roadster Convertible 2012',\n",
       " 157: 'Maybach Landaulet Convertible 2012',\n",
       " 158: 'Mazda Tribute SUV 2011',\n",
       " 159: 'McLaren MP4-12C Coupe 2012',\n",
       " 160: 'Mercedes-Benz 300-Class Convertible 1993',\n",
       " 161: 'Mercedes-Benz C-Class Sedan 2012',\n",
       " 162: 'Mercedes-Benz E-Class Sedan 2012',\n",
       " 163: 'Mercedes-Benz S-Class Sedan 2012',\n",
       " 164: 'Mercedes-Benz SL-Class Coupe 2009',\n",
       " 165: 'Mercedes-Benz Sprinter Van 2012',\n",
       " 166: 'Mitsubishi Lancer Sedan 2012',\n",
       " 167: 'Nissan 240SX Coupe 1998',\n",
       " 168: 'Nissan Juke Hatchback 2012',\n",
       " 169: 'Nissan Leaf Hatchback 2012',\n",
       " 170: 'Nissan NV Passenger Van 2012',\n",
       " 171: 'Plymouth Neon Coupe 1999',\n",
       " 172: 'Porsche Panamera Sedan 2012',\n",
       " 173: 'Ram C/V Cargo Van Minivan 2012',\n",
       " 174: 'Rolls-Royce Ghost Sedan 2012',\n",
       " 175: 'Rolls-Royce Phantom Drophead Coupe Convertible 2012',\n",
       " 176: 'Rolls-Royce Phantom Sedan 2012',\n",
       " 177: 'Scion xD Hatchback 2012',\n",
       " 178: 'Spyker C8 Convertible 2009',\n",
       " 179: 'Spyker C8 Coupe 2009',\n",
       " 180: 'Suzuki Aerio Sedan 2007',\n",
       " 181: 'Suzuki Kizashi Sedan 2012',\n",
       " 182: 'Suzuki SX4 Hatchback 2012',\n",
       " 183: 'Suzuki SX4 Sedan 2012',\n",
       " 184: 'Tesla Model S Sedan 2012',\n",
       " 185: 'Toyota 4Runner SUV 2012',\n",
       " 186: 'Toyota Camry Sedan 2012',\n",
       " 187: 'Toyota Corolla Sedan 2012',\n",
       " 188: 'Toyota Sequoia SUV 2012',\n",
       " 189: 'Volkswagen Beetle Hatchback 2012',\n",
       " 190: 'Volkswagen Golf Hatchback 1991',\n",
       " 191: 'Volkswagen Golf Hatchback 2012',\n",
       " 192: 'Volvo 240 Sedan 1993',\n",
       " 193: 'Volvo C30 Hatchback 2012',\n",
       " 194: 'Volvo XC90 SUV 2007',\n",
       " 195: 'smart fortwo Convertible 2012'}"
      ]
     },
     "execution_count": 22,
     "metadata": {},
     "output_type": "execute_result"
    }
   ],
   "source": [
    "label_to_class"
   ]
  },
  {
   "cell_type": "code",
   "execution_count": null,
   "metadata": {},
   "outputs": [],
   "source": []
  }
 ],
 "metadata": {
  "kernelspec": {
   "display_name": "Python 3.6 (VroomNet)",
   "language": "python",
   "name": "vroomnet"
  },
  "language_info": {
   "codemirror_mode": {
    "name": "ipython",
    "version": 3
   },
   "file_extension": ".py",
   "mimetype": "text/x-python",
   "name": "python",
   "nbconvert_exporter": "python",
   "pygments_lexer": "ipython3",
   "version": "3.6.7"
  }
 },
 "nbformat": 4,
 "nbformat_minor": 2
}
