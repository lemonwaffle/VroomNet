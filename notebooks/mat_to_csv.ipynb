{
 "cells": [
  {
   "cell_type": "code",
   "execution_count": 50,
   "metadata": {},
   "outputs": [],
   "source": [
    "import csv\n",
    "import scipy.io\n",
    "import pandas as pd\n",
    "import numpy as np"
   ]
  },
  {
   "cell_type": "code",
   "execution_count": 53,
   "metadata": {},
   "outputs": [],
   "source": [
    "def mat_to_csv(mat_file, csv_file):\n",
    "\n",
    "    with open(csv_file, 'w') as csvfile:\n",
    "\n",
    "      mat = scipy.io.loadmat(mat_file)\n",
    "\n",
    "      csvwriter = csv.writer(csvfile)\n",
    "      csvwriter.writerow(['img_path','class','bbox_x1','bbox_y1','bbox_x2','bbox_y2','test'])\n",
    "\n",
    "      for annotation in mat['annotations'][0]:\n",
    "        test = np.squeeze(annotation['test'])\n",
    "        im_path = str(np.squeeze(annotation['relative_im_path']))\n",
    "        cls = np.squeeze(annotation['class'])\n",
    "        x1 = np.squeeze(annotation['bbox_x1'])\n",
    "        y1 = np.squeeze(annotation['bbox_y1'])\n",
    "        x2 = np.squeeze(annotation['bbox_x2'])\n",
    "        y2 = np.squeeze(annotation['bbox_y2'])\n",
    "\n",
    "        csvwriter.writerow([im_path, cls, x1, y1, x2, y2, test])"
   ]
  },
  {
   "cell_type": "code",
   "execution_count": 54,
   "metadata": {},
   "outputs": [],
   "source": [
    "mat_to_csv('../data/cars_annos.mat', '../data/dataset.csv')"
   ]
  }
 ],
 "metadata": {
  "kernelspec": {
   "display_name": "Python 3.6 (VroomNet)",
   "language": "python",
   "name": "vroomnet"
  },
  "language_info": {
   "codemirror_mode": {
    "name": "ipython",
    "version": 3
   },
   "file_extension": ".py",
   "mimetype": "text/x-python",
   "name": "python",
   "nbconvert_exporter": "python",
   "pygments_lexer": "ipython3",
   "version": "3.6.7"
  }
 },
 "nbformat": 4,
 "nbformat_minor": 2
}
