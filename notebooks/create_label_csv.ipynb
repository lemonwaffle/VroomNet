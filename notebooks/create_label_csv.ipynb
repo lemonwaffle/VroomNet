{
 "cells": [
  {
   "cell_type": "code",
   "execution_count": 1,
   "metadata": {},
   "outputs": [],
   "source": [
    "import pandas as pd\n",
    "import os"
   ]
  },
  {
   "cell_type": "code",
   "execution_count": 2,
   "metadata": {},
   "outputs": [],
   "source": [
    "os.chdir(os.pardir)"
   ]
  },
  {
   "cell_type": "code",
   "execution_count": 3,
   "metadata": {},
   "outputs": [],
   "source": [
    "from src.configs.constants import DATA_DIR"
   ]
  },
  {
   "cell_type": "code",
   "execution_count": 40,
   "metadata": {},
   "outputs": [],
   "source": [
    "def anno_to_labels(anno_name):\n",
    "    cols = ['img_name', 'bbox_x1', 'bbox_y1', 'bbox_x2', 'bbox_y2', 'class']\n",
    "    \n",
    "    df = pd.read_csv(os.path.join(DATA_DIR, anno_name),\n",
    "                     names=cols)\n",
    "    \n",
    "    names = pd.read_csv(os.path.join(DATA_DIR, 'names.csv'), \n",
    "                    names=['class'])\n",
    "    names.index = range(1, 197)\n",
    "    names_dict = names.to_dict()['class']\n",
    "    \n",
    "    df['class'] = df['class'].replace(names_dict)\n",
    "    \n",
    "    return df"
   ]
  },
  {
   "cell_type": "code",
   "execution_count": 41,
   "metadata": {},
   "outputs": [
    {
     "data": {
      "text/html": [
       "<div>\n",
       "<style scoped>\n",
       "    .dataframe tbody tr th:only-of-type {\n",
       "        vertical-align: middle;\n",
       "    }\n",
       "\n",
       "    .dataframe tbody tr th {\n",
       "        vertical-align: top;\n",
       "    }\n",
       "\n",
       "    .dataframe thead th {\n",
       "        text-align: right;\n",
       "    }\n",
       "</style>\n",
       "<table border=\"1\" class=\"dataframe\">\n",
       "  <thead>\n",
       "    <tr style=\"text-align: right;\">\n",
       "      <th></th>\n",
       "      <th>img_name</th>\n",
       "      <th>bbox_x1</th>\n",
       "      <th>bbox_y1</th>\n",
       "      <th>bbox_x2</th>\n",
       "      <th>bbox_y2</th>\n",
       "      <th>class</th>\n",
       "    </tr>\n",
       "  </thead>\n",
       "  <tbody>\n",
       "    <tr>\n",
       "      <th>0</th>\n",
       "      <td>00001.jpg</td>\n",
       "      <td>39</td>\n",
       "      <td>116</td>\n",
       "      <td>569</td>\n",
       "      <td>375</td>\n",
       "      <td>Audi TTS Coupe 2012</td>\n",
       "    </tr>\n",
       "    <tr>\n",
       "      <th>1</th>\n",
       "      <td>00002.jpg</td>\n",
       "      <td>36</td>\n",
       "      <td>116</td>\n",
       "      <td>868</td>\n",
       "      <td>587</td>\n",
       "      <td>Acura TL Sedan 2012</td>\n",
       "    </tr>\n",
       "    <tr>\n",
       "      <th>2</th>\n",
       "      <td>00003.jpg</td>\n",
       "      <td>85</td>\n",
       "      <td>109</td>\n",
       "      <td>601</td>\n",
       "      <td>381</td>\n",
       "      <td>Dodge Dakota Club Cab 2007</td>\n",
       "    </tr>\n",
       "    <tr>\n",
       "      <th>3</th>\n",
       "      <td>00004.jpg</td>\n",
       "      <td>621</td>\n",
       "      <td>393</td>\n",
       "      <td>1484</td>\n",
       "      <td>1096</td>\n",
       "      <td>Hyundai Sonata Hybrid Sedan 2012</td>\n",
       "    </tr>\n",
       "    <tr>\n",
       "      <th>4</th>\n",
       "      <td>00005.jpg</td>\n",
       "      <td>14</td>\n",
       "      <td>36</td>\n",
       "      <td>133</td>\n",
       "      <td>99</td>\n",
       "      <td>Ford F-450 Super Duty Crew Cab 2012</td>\n",
       "    </tr>\n",
       "  </tbody>\n",
       "</table>\n",
       "</div>"
      ],
      "text/plain": [
       "    img_name  bbox_x1  bbox_y1  bbox_x2  bbox_y2  \\\n",
       "0  00001.jpg       39      116      569      375   \n",
       "1  00002.jpg       36      116      868      587   \n",
       "2  00003.jpg       85      109      601      381   \n",
       "3  00004.jpg      621      393     1484     1096   \n",
       "4  00005.jpg       14       36      133       99   \n",
       "\n",
       "                                 class  \n",
       "0                  Audi TTS Coupe 2012  \n",
       "1                  Acura TL Sedan 2012  \n",
       "2           Dodge Dakota Club Cab 2007  \n",
       "3     Hyundai Sonata Hybrid Sedan 2012  \n",
       "4  Ford F-450 Super Duty Crew Cab 2012  "
      ]
     },
     "execution_count": 41,
     "metadata": {},
     "output_type": "execute_result"
    }
   ],
   "source": [
    "train_labels = anno_to_labels('anno_train.csv')\n",
    "train_labels.head()"
   ]
  },
  {
   "cell_type": "code",
   "execution_count": 42,
   "metadata": {},
   "outputs": [],
   "source": [
    "train_labels.to_csv(os.path.join(DATA_DIR, 'train_labels.csv'), index=False)"
   ]
  },
  {
   "cell_type": "code",
   "execution_count": 43,
   "metadata": {},
   "outputs": [
    {
     "data": {
      "text/html": [
       "<div>\n",
       "<style scoped>\n",
       "    .dataframe tbody tr th:only-of-type {\n",
       "        vertical-align: middle;\n",
       "    }\n",
       "\n",
       "    .dataframe tbody tr th {\n",
       "        vertical-align: top;\n",
       "    }\n",
       "\n",
       "    .dataframe thead th {\n",
       "        text-align: right;\n",
       "    }\n",
       "</style>\n",
       "<table border=\"1\" class=\"dataframe\">\n",
       "  <thead>\n",
       "    <tr style=\"text-align: right;\">\n",
       "      <th></th>\n",
       "      <th>img_name</th>\n",
       "      <th>bbox_x1</th>\n",
       "      <th>bbox_y1</th>\n",
       "      <th>bbox_x2</th>\n",
       "      <th>bbox_y2</th>\n",
       "      <th>class</th>\n",
       "    </tr>\n",
       "  </thead>\n",
       "  <tbody>\n",
       "    <tr>\n",
       "      <th>0</th>\n",
       "      <td>00001.jpg</td>\n",
       "      <td>30</td>\n",
       "      <td>52</td>\n",
       "      <td>246</td>\n",
       "      <td>147</td>\n",
       "      <td>Suzuki Aerio Sedan 2007</td>\n",
       "    </tr>\n",
       "    <tr>\n",
       "      <th>1</th>\n",
       "      <td>00002.jpg</td>\n",
       "      <td>100</td>\n",
       "      <td>19</td>\n",
       "      <td>576</td>\n",
       "      <td>203</td>\n",
       "      <td>Ferrari 458 Italia Convertible 2012</td>\n",
       "    </tr>\n",
       "    <tr>\n",
       "      <th>2</th>\n",
       "      <td>00003.jpg</td>\n",
       "      <td>51</td>\n",
       "      <td>105</td>\n",
       "      <td>968</td>\n",
       "      <td>659</td>\n",
       "      <td>Jeep Patriot SUV 2012</td>\n",
       "    </tr>\n",
       "    <tr>\n",
       "      <th>3</th>\n",
       "      <td>00004.jpg</td>\n",
       "      <td>67</td>\n",
       "      <td>84</td>\n",
       "      <td>581</td>\n",
       "      <td>407</td>\n",
       "      <td>Toyota Camry Sedan 2012</td>\n",
       "    </tr>\n",
       "    <tr>\n",
       "      <th>4</th>\n",
       "      <td>00005.jpg</td>\n",
       "      <td>140</td>\n",
       "      <td>151</td>\n",
       "      <td>593</td>\n",
       "      <td>339</td>\n",
       "      <td>Tesla Model S Sedan 2012</td>\n",
       "    </tr>\n",
       "  </tbody>\n",
       "</table>\n",
       "</div>"
      ],
      "text/plain": [
       "    img_name  bbox_x1  bbox_y1  bbox_x2  bbox_y2  \\\n",
       "0  00001.jpg       30       52      246      147   \n",
       "1  00002.jpg      100       19      576      203   \n",
       "2  00003.jpg       51      105      968      659   \n",
       "3  00004.jpg       67       84      581      407   \n",
       "4  00005.jpg      140      151      593      339   \n",
       "\n",
       "                                 class  \n",
       "0              Suzuki Aerio Sedan 2007  \n",
       "1  Ferrari 458 Italia Convertible 2012  \n",
       "2                Jeep Patriot SUV 2012  \n",
       "3              Toyota Camry Sedan 2012  \n",
       "4             Tesla Model S Sedan 2012  "
      ]
     },
     "execution_count": 43,
     "metadata": {},
     "output_type": "execute_result"
    }
   ],
   "source": [
    "test_labels = anno_to_labels('anno_test.csv')\n",
    "test_labels.head()"
   ]
  },
  {
   "cell_type": "code",
   "execution_count": 44,
   "metadata": {},
   "outputs": [],
   "source": [
    "test_labels.to_csv(os.path.join(DATA_DIR, 'test_labels.csv'), index=False)"
   ]
  }
 ],
 "metadata": {
  "kernelspec": {
   "display_name": "Python 3.6 (fastai)",
   "language": "python",
   "name": "fastai"
  },
  "language_info": {
   "codemirror_mode": {
    "name": "ipython",
    "version": 3
   },
   "file_extension": ".py",
   "mimetype": "text/x-python",
   "name": "python",
   "nbconvert_exporter": "python",
   "pygments_lexer": "ipython3",
   "version": "3.6.7"
  }
 },
 "nbformat": 4,
 "nbformat_minor": 2
}
